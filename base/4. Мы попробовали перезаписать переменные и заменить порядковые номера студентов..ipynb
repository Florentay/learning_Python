{
 "cells": [
  {
   "cell_type": "code",
   "execution_count": 2,
   "id": "35da7bdb",
   "metadata": {},
   "outputs": [
    {
     "name": "stdout",
     "output_type": "stream",
     "text": [
      "Alice Bob Alice\n",
      "Alice Bob John\n"
     ]
    }
   ],
   "source": [
    "#Вот пример кода, который содержит синтаксическую ошибку и который нужно исправить:\n",
    "\n",
    "student1 = \"John\"\n",
    "student2 = \"Alice\"\n",
    "student3 = \"Bob\"\n",
    "\n",
    "# Попытка перезаписать порядковые номера студентов (ошибочный код)\n",
    "student1 = student2\n",
    "student2 = student3\n",
    "student3 = student1\n",
    "\n",
    "print(student1, student2, student3)\n",
    "\n",
    "#Ошибка в данном коде заключается в том, что при перезаписи порядковых номеров студентов, значения переменных перепутаны между собой, что приводит к неверным результатам. Чтобы исправить это, нужно использовать дополнительную переменную для сохранения значения одной из переменных во временной памяти. Вот исправленный код:\n",
    "\n",
    "student1 = \"John\"\n",
    "student2 = \"Alice\"\n",
    "student3 = \"Bob\"\n",
    "\n",
    "# Исправленный код\n",
    "temp = student1\n",
    "student1 = student2\n",
    "student2 = student3\n",
    "student3 = temp\n",
    "\n",
    "print(student1, student2, student3)\n",
    "\n",
    "\n",
    "#Теперь значения переменных student1, student2 и student3 будут перезаписаны в правильном порядке."
   ]
  },
  {
   "cell_type": "code",
   "execution_count": null,
   "id": "eb816728",
   "metadata": {},
   "outputs": [],
   "source": []
  }
 ],
 "metadata": {
  "kernelspec": {
   "display_name": "Python 3 (ipykernel)",
   "language": "python",
   "name": "python3"
  },
  "language_info": {
   "codemirror_mode": {
    "name": "ipython",
    "version": 3
   },
   "file_extension": ".py",
   "mimetype": "text/x-python",
   "name": "python",
   "nbconvert_exporter": "python",
   "pygments_lexer": "ipython3",
   "version": "3.11.4"
  }
 },
 "nbformat": 4,
 "nbformat_minor": 5
}
