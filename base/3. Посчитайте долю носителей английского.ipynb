{
 "cells": [
  {
   "cell_type": "code",
   "execution_count": 3,
   "id": "cfe26831",
   "metadata": {},
   "outputs": [
    {
     "name": "stdout",
     "output_type": "stream",
     "text": [
      "50.0\n"
     ]
    }
   ],
   "source": [
    "#3. Для вычисления доли носителей английского языка от общего числа владеющих этим языком, нужно разделить количество носителей на общее число владеющих и умножить на 100. Вот пример:\n",
    "\n",
    "native_speakers = 500\n",
    "total_speakers = 1000\n",
    "\n",
    "native_speakers_share = (native_speakers / total_speakers) * 100\n",
    "print(native_speakers_share)"
   ]
  }
 ],
 "metadata": {
  "kernelspec": {
   "display_name": "Python 3 (ipykernel)",
   "language": "python",
   "name": "python3"
  },
  "language_info": {
   "codemirror_mode": {
    "name": "ipython",
    "version": 3
   },
   "file_extension": ".py",
   "mimetype": "text/x-python",
   "name": "python",
   "nbconvert_exporter": "python",
   "pygments_lexer": "ipython3",
   "version": "3.11.4"
  }
 },
 "nbformat": 4,
 "nbformat_minor": 5
}
