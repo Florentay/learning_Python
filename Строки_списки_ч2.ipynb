{
 "cells": [
  {
   "cell_type": "markdown",
   "id": "f4499d4d",
   "metadata": {},
   "source": [
    "**Задание 1**\n",
    "\n",
    "Сохраните в переменной **name_predmet** любую вашу дисциплину\n",
    "\n",
    "\n",
    "Напечатайте на экран длину содержимого переменной."
   ]
  },
  {
   "cell_type": "code",
   "execution_count": 6,
   "id": "a84aa0ad",
   "metadata": {},
   "outputs": [
    {
     "name": "stdout",
     "output_type": "stream",
     "text": [
      "23\n"
     ]
    }
   ],
   "source": [
    "name_predmet = 'Основы аналитики данных'\n",
    "print(len(name_predmet))"
   ]
  },
  {
   "cell_type": "markdown",
   "id": "1d1ce39b",
   "metadata": {},
   "source": [
    "**Задание 2**\n",
    "\n",
    "Сохраните 5-10 дисциплин в переменную в виде многострочной строки.\n",
    "\n",
    "Выведите содержимое переменной на экран."
   ]
  },
  {
   "cell_type": "code",
   "execution_count": 5,
   "id": "490f070b",
   "metadata": {},
   "outputs": [
    {
     "name": "stdout",
     "output_type": "stream",
     "text": [
      "Математика\n",
      "Физика\n",
      "Химия\n",
      "Информатика\n",
      "История\n",
      "Литература\n",
      "Английский язык\n",
      "Экономика\n",
      "Биология\n",
      "География\n"
     ]
    }
   ],
   "source": [
    "name_predmet = '''Математика\n",
    "Физика\n",
    "Химия\n",
    "Информатика\n",
    "История\n",
    "Литература\n",
    "Английский язык\n",
    "Экономика\n",
    "Биология\n",
    "География'''\n",
    "\n",
    "print(name_predmet)"
   ]
  },
  {
   "cell_type": "markdown",
   "id": "e5a826b4",
   "metadata": {},
   "source": [
    "**Задание 3**\n",
    "\n",
    "С помощью неотрицательного индекса выведите на экран символ **д** из строки в переменной name_predmet"
   ]
  },
  {
   "cell_type": "code",
   "execution_count": 7,
   "id": "1b6b7a83",
   "metadata": {},
   "outputs": [
    {
     "name": "stdout",
     "output_type": "stream",
     "text": [
      "д\n"
     ]
    }
   ],
   "source": [
    "name_predmet = 'Основы аналитики данных'\n",
    "\n",
    "index = name_predmet[17]\n",
    "print(index)"
   ]
  },
  {
   "cell_type": "markdown",
   "id": "ebc96f45",
   "metadata": {},
   "source": [
    "**Задание 4**\n",
    "\n",
    "С помощью отрицательного индекса выведите на экран символ **а** из слова **данных** в переменной name_predmet"
   ]
  },
  {
   "cell_type": "code",
   "execution_count": 9,
   "id": "6ddc43e5",
   "metadata": {},
   "outputs": [
    {
     "name": "stdout",
     "output_type": "stream",
     "text": [
      "а\n"
     ]
    }
   ],
   "source": [
    "name_predmet = 'Основы аналитики данных'\n",
    "\n",
    "index = name_predmet[-5]\n",
    "print(index)"
   ]
  },
  {
   "cell_type": "markdown",
   "id": "db442ee0",
   "metadata": {},
   "source": [
    "**Задание 5**\n",
    "\n",
    "Переменная name_predmet хранит строку аналитика. С помощью среза выведите на экран подстроку со словом **тик**."
   ]
  },
  {
   "cell_type": "code",
   "execution_count": 11,
   "id": "21524fb9",
   "metadata": {},
   "outputs": [
    {
     "name": "stdout",
     "output_type": "stream",
     "text": [
      "тик\n"
     ]
    }
   ],
   "source": [
    "name_predmet = 'Аналитика'\n",
    "\n",
    "index = name_predmet[5:8]\n",
    "print(index)"
   ]
  },
  {
   "cell_type": "markdown",
   "id": "fa99b3b2",
   "metadata": {},
   "source": [
    "**Задание 6**\n",
    "\n",
    "Получите подстроку из 7 первых символов строки name_predmet и выведите её на экран."
   ]
  },
  {
   "cell_type": "code",
   "execution_count": 35,
   "id": "64a59e23",
   "metadata": {},
   "outputs": [
    {
     "name": "stdout",
     "output_type": "stream",
     "text": [
      "Основы \n",
      "Основы \n"
     ]
    }
   ],
   "source": [
    "name_predmet = 'Основы аналитики данных'\n",
    "\n",
    "index = name_predmet[:7]\n",
    "print(index)\n",
    "\n",
    "#А можно ли вот так делать???\n",
    "print(name_predmet[:7])"
   ]
  },
  {
   "cell_type": "markdown",
   "id": "a6b7ecc5",
   "metadata": {},
   "source": [
    "**Задание 7**\n",
    "\n",
    "Выведите на экран 10 строчек с названием любого вашего предмета.\n",
    "\n",
    "Каждый раз эта фраза должна появляться с новой строки."
   ]
  },
  {
   "cell_type": "code",
   "execution_count": 25,
   "id": "8091f3e3",
   "metadata": {},
   "outputs": [
    {
     "name": "stdout",
     "output_type": "stream",
     "text": [
      "Математика\n",
      "Математика\n",
      "Математика\n",
      "Математика\n",
      "Математика\n",
      "Математика\n",
      "Математика\n",
      "Математика\n",
      "Математика\n",
      "Математика\n",
      "\n"
     ]
    }
   ],
   "source": [
    "print('Математика\\n' * 10)\n"
   ]
  },
  {
   "cell_type": "markdown",
   "id": "afc576f8",
   "metadata": {},
   "source": [
    "**Задание 8**\n",
    "\n",
    "Преобразуйте строку из переменной name_predmet к нижнему и верхнему регистру. \n",
    "\n",
    "После этого выведите значения на экран "
   ]
  },
  {
   "cell_type": "code",
   "execution_count": 26,
   "id": "1f24e755",
   "metadata": {},
   "outputs": [
    {
     "name": "stdout",
     "output_type": "stream",
     "text": [
      "основы аналитики данных\n",
      "ОСНОВЫ АНАЛИТИКИ ДАННЫХ\n"
     ]
    }
   ],
   "source": [
    "name_predmet = 'ОсНоВы АнАлИтики данных'\n",
    "\n",
    "lower_predmet = name_predmet.lower()\n",
    "upper_predmet = name_predmet.upper()\n",
    "\n",
    "print(lower_predmet)\n",
    "print(upper_predmet)"
   ]
  },
  {
   "cell_type": "markdown",
   "id": "2377a51f",
   "metadata": {},
   "source": [
    "**Задание 9**\n",
    "\n",
    "Запишите в список 5 ваших предметов. Результат сохраните в переменную **name_predmet_5** и выведите на экран её содержимое. \n"
   ]
  },
  {
   "cell_type": "code",
   "execution_count": 29,
   "id": "c1e00042",
   "metadata": {},
   "outputs": [
    {
     "name": "stdout",
     "output_type": "stream",
     "text": [
      "['Математика', 'Физика', 'Химия', 'Информатика', 'История']\n"
     ]
    }
   ],
   "source": [
    "name_predmet_5 = ['Математика', 'Физика', 'Химия', 'Информатика', 'История']\n",
    "\n",
    "print(name_predmet_5)"
   ]
  },
  {
   "cell_type": "markdown",
   "id": "fcdaf920",
   "metadata": {},
   "source": [
    "**Задание 10**\n",
    "\n",
    "В переменную name_predmet записаны предметы. Выведите на экран третий предмет"
   ]
  },
  {
   "cell_type": "code",
   "execution_count": 33,
   "id": "a2e61de6",
   "metadata": {},
   "outputs": [
    {
     "name": "stdout",
     "output_type": "stream",
     "text": [
      "Финансы\n"
     ]
    }
   ],
   "source": [
    "name_predmet = ['Основы аналитики данных', 'Экономика', 'Финансы',\n",
    "                'Налоги', 'Мировая экономика', 'Бухгалтерский учет',]\n",
    "\n",
    "print(name_predmet[2])"
   ]
  },
  {
   "cell_type": "markdown",
   "id": "319295f0",
   "metadata": {},
   "source": [
    "**Задание 11**\n",
    "\n",
    "В переменную name_predmet записаны предметы. Выведите на экран срез предметов со 2 по 4 предмет"
   ]
  },
  {
   "cell_type": "code",
   "execution_count": 37,
   "id": "7343f73e",
   "metadata": {},
   "outputs": [
    {
     "name": "stdout",
     "output_type": "stream",
     "text": [
      "['Экономика', 'Финансы', 'Налоги']\n"
     ]
    }
   ],
   "source": [
    "name_predmet = ['Основы аналитики данных', 'Экономика', 'Финансы',\n",
    "                'Налоги', 'Мировая экономика', 'Бухгалтерский учет',]\n",
    "\n",
    "print(name_predmet[1:4])"
   ]
  },
  {
   "cell_type": "markdown",
   "id": "c5438f01",
   "metadata": {},
   "source": [
    "**Задание 12**\n",
    "\n",
    "В переменную name_predmet добавьте еще один предмет.\n",
    "\n",
    "Выведите на экран старый список и новый список"
   ]
  },
  {
   "cell_type": "code",
   "execution_count": 39,
   "id": "f176c470",
   "metadata": {},
   "outputs": [
    {
     "name": "stdout",
     "output_type": "stream",
     "text": [
      "['Основы аналитики данных', 'Экономика', 'Финансы', 'Налоги', 'Мировая экономика', 'Бухгалтерский учет']\n",
      "['Основы аналитики данных', 'Экономика', 'Финансы', 'Налоги', 'Мировая экономика', 'Бухгалтерский учет', 'Математика']\n"
     ]
    }
   ],
   "source": [
    "name_predmet = ['Основы аналитики данных', 'Экономика', 'Финансы',\n",
    "                'Налоги', 'Мировая экономика', 'Бухгалтерский учет',]\n",
    "\n",
    "print(name_predmet)\n",
    "name_predmet.append('Математика')\n",
    "print(name_predmet)"
   ]
  },
  {
   "cell_type": "markdown",
   "id": "a7ba3d5b",
   "metadata": {},
   "source": [
    "**Задание 13**\n",
    "\n",
    "Сложите два списка и запишите в новую переменную\n",
    "\n",
    "\n"
   ]
  },
  {
   "cell_type": "code",
   "execution_count": 42,
   "id": "d74e36f5",
   "metadata": {},
   "outputs": [
    {
     "name": "stdout",
     "output_type": "stream",
     "text": [
      "['Основы аналитики данных', 'Экономика', 'Финансы', 'Налоги', 'Мировая экономика', 'Бухгалтерский учет', 8911, 8918, 8031, 8938, 8936, 8924]\n"
     ]
    }
   ],
   "source": [
    "name_predmet = ['Основы аналитики данных', 'Экономика', 'Финансы',\n",
    "                'Налоги', 'Мировая экономика', 'Бухгалтерский учет',]\n",
    "\n",
    "group_name = [8911, 8918, 8031, 8938, 8936, 8924]\n",
    "\n",
    "new_list = (name_predmet + group_name)\n",
    "print(new_list)\n",
    "\n",
    "#не уверенна, что сделала это правильно"
   ]
  },
  {
   "cell_type": "markdown",
   "id": "b6c8aa2f",
   "metadata": {},
   "source": [
    "**Задание 14**\n",
    "\n",
    "\n",
    "Вызовите метод sort(), чтобы отсортировать список из переменной **group_name** по возрастанию. \n",
    "\n",
    "Выведите результат на экран."
   ]
  },
  {
   "cell_type": "code",
   "execution_count": 43,
   "id": "505af3aa",
   "metadata": {},
   "outputs": [
    {
     "name": "stdout",
     "output_type": "stream",
     "text": [
      "[8031, 8911, 8918, 8924, 8936, 8938]\n"
     ]
    }
   ],
   "source": [
    "group_name = [8911, 8918, 8031, 8938, 8936, 8924]\n",
    "\n",
    "group_name.sort()\n",
    "print(group_name)"
   ]
  },
  {
   "cell_type": "markdown",
   "id": "30dd0f5a",
   "metadata": {},
   "source": [
    "**Задание 15**\n",
    "\n",
    "С помощью метода index() найдите номер элемента списка name_predmet c названием Мировая экономика. \n",
    "\n",
    "\n",
    "Сохраните индекс в переменной name_ind и выведите её на экран."
   ]
  },
  {
   "cell_type": "code",
   "execution_count": 49,
   "id": "d8189567",
   "metadata": {},
   "outputs": [
    {
     "name": "stdout",
     "output_type": "stream",
     "text": [
      "4\n"
     ]
    }
   ],
   "source": [
    "name_predmet = ['Основы аналитики данных', 'Экономика', 'Финансы',\n",
    "                'Налоги', 'Мировая экономика', 'Бухгалтерский учет',]\n",
    "\n",
    "name_ind = name_predmet.index('Мировая экономика')\n",
    "print(name_ind)"
   ]
  },
  {
   "cell_type": "markdown",
   "id": "c0a2fe51",
   "metadata": {},
   "source": [
    "**Задание 16**\n",
    "\n",
    "Разбейте строку name_predmet на список предметов. Разделителем служит символ # . \n",
    "\n",
    "Сохраните результат в переменной new_name_predmet."
   ]
  },
  {
   "cell_type": "code",
   "execution_count": 51,
   "id": "fec82fea",
   "metadata": {},
   "outputs": [
    {
     "name": "stdout",
     "output_type": "stream",
     "text": [
      "['Экономика', 'Финансы', 'Налоги']\n"
     ]
    }
   ],
   "source": [
    "name_predmet = 'Экономика#Финансы#Налоги'\n",
    "\n",
    "new_name_predmet = name_predmet.split('#')\n",
    "print(new_name_predmet)"
   ]
  },
  {
   "cell_type": "code",
   "execution_count": null,
   "id": "73b22c52",
   "metadata": {},
   "outputs": [],
   "source": []
  }
 ],
 "metadata": {
  "kernelspec": {
   "display_name": "Python 3 (ipykernel)",
   "language": "python",
   "name": "python3"
  },
  "language_info": {
   "codemirror_mode": {
    "name": "ipython",
    "version": 3
   },
   "file_extension": ".py",
   "mimetype": "text/x-python",
   "name": "python",
   "nbconvert_exporter": "python",
   "pygments_lexer": "ipython3",
   "version": "3.11.4"
  }
 },
 "nbformat": 4,
 "nbformat_minor": 5
}
