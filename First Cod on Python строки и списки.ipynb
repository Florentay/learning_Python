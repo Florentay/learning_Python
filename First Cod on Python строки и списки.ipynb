{
 "cells": [
  {
   "cell_type": "code",
   "execution_count": 61,
   "id": "e9470321",
   "metadata": {},
   "outputs": [
    {
     "name": "stdout",
     "output_type": "stream",
     "text": [
      "н\n"
     ]
    }
   ],
   "source": [
    "name_predmet='Основы аналитики данных по отраслям'\n",
    "index=name_predmet[8]\n",
    "print(index)"
   ]
  },
  {
   "cell_type": "code",
   "execution_count": 62,
   "id": "03861227",
   "metadata": {},
   "outputs": [
    {
     "name": "stdout",
     "output_type": "stream",
     "text": [
      "м\n"
     ]
    }
   ],
   "source": [
    "name_predmet='Основы аналитики данных по отраслям'\n",
    "index=name_predmet[-1]\n",
    "print(index)"
   ]
  },
  {
   "cell_type": "code",
   "execution_count": 65,
   "id": "030d28da",
   "metadata": {},
   "outputs": [
    {
     "name": "stdout",
     "output_type": "stream",
     "text": [
      "О\n"
     ]
    }
   ],
   "source": [
    "name_predmet='Основы аналитики данных по отраслям'\n",
    "index=name_predmet[0]\n",
    "print(index)"
   ]
  },
  {
   "cell_type": "code",
   "execution_count": 67,
   "id": "c335d3b9",
   "metadata": {},
   "outputs": [
    {
     "name": "stdout",
     "output_type": "stream",
     "text": [
      "я\n"
     ]
    }
   ],
   "source": [
    "name_predmet='Основы аналитики данных по отраслям'\n",
    "index=name_predmet[-2]\n",
    "print(index)"
   ]
  },
  {
   "cell_type": "code",
   "execution_count": 69,
   "id": "e267ed4b",
   "metadata": {},
   "outputs": [
    {
     "name": "stdout",
     "output_type": "stream",
     "text": [
      "м\n"
     ]
    }
   ],
   "source": [
    "name_predmet='Основы аналитики данных по отраслям'\n",
    "index=name_predmet[34]\n",
    "print(index)"
   ]
  },
  {
   "cell_type": "code",
   "execution_count": 70,
   "id": "30089e0a",
   "metadata": {},
   "outputs": [
    {
     "name": "stdout",
     "output_type": "stream",
     "text": [
      "сновы а\n"
     ]
    }
   ],
   "source": [
    "name_predmet='Основы аналитики данных по отраслям'\n",
    "index=name_predmet[1:8]\n",
    "print(index)"
   ]
  },
  {
   "cell_type": "code",
   "execution_count": 71,
   "id": "57f84c0f",
   "metadata": {},
   "outputs": [
    {
     "name": "stdout",
     "output_type": "stream",
     "text": [
      "Основы а\n"
     ]
    }
   ],
   "source": [
    "name_predmet='Основы аналитики данных по отраслям'\n",
    "index=name_predmet[0:8]\n",
    "print(index)"
   ]
  },
  {
   "cell_type": "code",
   "execution_count": 72,
   "id": "8609b324",
   "metadata": {},
   "outputs": [
    {
     "name": "stdout",
     "output_type": "stream",
     "text": [
      "Основы а\n"
     ]
    }
   ],
   "source": [
    "name_predmet='Основы аналитики данных по отраслям'\n",
    "index=name_predmet[:8]\n",
    "print(index)"
   ]
  },
  {
   "cell_type": "code",
   "execution_count": 73,
   "id": "2c0f5f52",
   "metadata": {},
   "outputs": [
    {
     "name": "stdout",
     "output_type": "stream",
     "text": [
      "Основы аналитики данных по отраслям\n"
     ]
    }
   ],
   "source": [
    "name_predmet='Основы аналитики данных по отраслям'\n",
    "index=name_predmet[0:]\n",
    "print(index)"
   ]
  },
  {
   "cell_type": "code",
   "execution_count": 74,
   "id": "47f0e265",
   "metadata": {},
   "outputs": [
    {
     "name": "stdout",
     "output_type": "stream",
     "text": [
      "ы аналитики данных по отраслям\n"
     ]
    }
   ],
   "source": [
    "name_predmet='Основы аналитики данных по отраслям'\n",
    "index=name_predmet[5:]\n",
    "print(index)"
   ]
  },
  {
   "cell_type": "code",
   "execution_count": 77,
   "id": "993f8862",
   "metadata": {},
   "outputs": [
    {
     "name": "stdout",
     "output_type": "stream",
     "text": [
      "Основы аналитики данных по отрослям!\n"
     ]
    }
   ],
   "source": [
    "predmet1='Основы аналитики '\n",
    "predmet2='данных по '\n",
    "predmet3='отрослям!'\n",
    "\n",
    "print(predmet1+predmet2+predmet3)"
   ]
  },
  {
   "cell_type": "code",
   "execution_count": 79,
   "id": "bd863744",
   "metadata": {},
   "outputs": [
    {
     "name": "stdout",
     "output_type": "stream",
     "text": [
      "Основы аналитики данных по отраслям!\n"
     ]
    }
   ],
   "source": [
    "predmet1='Основы аналитики '\n",
    "predmet2='данных по '\n",
    "\n",
    "print(predmet1+predmet2+'отраслям!')"
   ]
  },
  {
   "cell_type": "code",
   "execution_count": 83,
   "id": "203793d5",
   "metadata": {},
   "outputs": [
    {
     "name": "stdout",
     "output_type": "stream",
     "text": [
      "Основы аналитики данных по отраслям\n"
     ]
    }
   ],
   "source": [
    "print('Основы аналитики '+'данных по '+'отраслям')"
   ]
  },
  {
   "cell_type": "code",
   "execution_count": 86,
   "id": "220de812",
   "metadata": {},
   "outputs": [
    {
     "name": "stdout",
     "output_type": "stream",
     "text": [
      "Основы аналитики по отраслямОсновы аналитики по отраслям\n"
     ]
    }
   ],
   "source": [
    "print('Основы аналитики по отраслям'*2)"
   ]
  },
  {
   "cell_type": "code",
   "execution_count": 88,
   "id": "91ffb152",
   "metadata": {},
   "outputs": [
    {
     "name": "stdout",
     "output_type": "stream",
     "text": [
      "Основы аналитики по отраслям\n",
      "Основы аналитики по отраслям\n",
      "\n"
     ]
    }
   ],
   "source": [
    "print('Основы аналитики по отраслям\\n'*2)"
   ]
  },
  {
   "cell_type": "code",
   "execution_count": 90,
   "id": "4550e020",
   "metadata": {},
   "outputs": [
    {
     "name": "stdout",
     "output_type": "stream",
     "text": [
      "Основы аналитики данных по отраслям\n",
      "Основы аналитики данных для 8 факультета\n"
     ]
    }
   ],
   "source": [
    "predmet='Основы аналитики данных по отраслям'  #первая строка\n",
    "print(predmet) #вывели на печать первую строку\n",
    "predmet=predmet.replace('по отраслям','для 8 факультета') #в первой строке заменили по отраслям на для 8 факультета\n",
    "print(predmet) #вывели новую строку"
   ]
  },
  {
   "cell_type": "code",
   "execution_count": 93,
   "id": "94e1f0b7",
   "metadata": {},
   "outputs": [
    {
     "name": "stdout",
     "output_type": "stream",
     "text": [
      "17\n"
     ]
    }
   ],
   "source": [
    "predmet='Основы аналитики данных по отраслям' \n",
    "find_1=predmet.find('данных')\n",
    "print(find_1)"
   ]
  },
  {
   "cell_type": "code",
   "execution_count": 95,
   "id": "1094e17b",
   "metadata": {},
   "outputs": [
    {
     "name": "stdout",
     "output_type": "stream",
     "text": [
      "ОcНоВы АнАлИтИкИ дАнНыХ пО оТрАсЛяМ\n",
      "оcновы аналитики данных по отраслям\n",
      "ОCНОВЫ АНАЛИТИКИ ДАННЫХ ПО ОТРАСЛЯМ\n"
     ]
    }
   ],
   "source": [
    "predmet='ОcНоВы АнАлИтИкИ дАнНыХ пО оТрАсЛяМ' \n",
    "lower_predmet=predmet.lower()\n",
    "upper_predmet=predmet.upper()\n",
    "print(predmet)\n",
    "print(lower_predmet)\n",
    "print(upper_predmet)"
   ]
  },
  {
   "cell_type": "code",
   "execution_count": 99,
   "id": "514f67b2",
   "metadata": {},
   "outputs": [
    {
     "name": "stdout",
     "output_type": "stream",
     "text": [
      "На цифровых кафедрах мы изучаем Основы аналитики данных, количество студентов 391, для занятий нужно 26.0666667 компьютерных классов\n"
     ]
    }
   ],
   "source": [
    "predmet='Основы аналитики данных'\n",
    "amout_students=391\n",
    "amout_classes=26.0666667\n",
    "mess='На цифровых кафедрах мы изучаем '+predmet+', количество студентов '+str(amout_students)+', для занятий нужно '+str(amout_classes)+' компьютерных классов'\n",
    "print(mess)"
   ]
  },
  {
   "cell_type": "code",
   "execution_count": 100,
   "id": "121d0d42",
   "metadata": {},
   "outputs": [
    {
     "name": "stdout",
     "output_type": "stream",
     "text": [
      "На цифровых кафедрах мы изучаем Основы аналитики данных, количество студентов 391, для занятий нужно 26.0666667 компьютерных классов\n"
     ]
    }
   ],
   "source": [
    "predmet='Основы аналитики данных'\n",
    "amout_students=391\n",
    "amout_classes=26.0666667\n",
    "mess=f'На цифровых кафедрах мы изучаем {predmet}, количество студентов {amout_students}, для занятий нужно {amout_classes} компьютерных классов'\n",
    "print(mess)"
   ]
  },
  {
   "cell_type": "code",
   "execution_count": 103,
   "id": "f35be2fa",
   "metadata": {},
   "outputs": [
    {
     "name": "stdout",
     "output_type": "stream",
     "text": [
      "Процент студентов по аналитике, которые обучаются на ЦК 17.0%\n",
      "Процент студентов по аналитике, которые обучаются на ЦК 17.00%\n",
      "Процент студентов по аналитике, которые обучаются на ЦК 17%\n"
     ]
    }
   ],
   "source": [
    "students_oad=0.17\n",
    "print(f'Процент студентов по аналитике, которые обучаются на ЦК {students_oad:.1%}')\n",
    "print(f'Процент студентов по аналитике, которые обучаются на ЦК {students_oad:.2%}')\n",
    "print(f'Процент студентов по аналитике, которые обучаются на ЦК {students_oad:.0%}')"
   ]
  },
  {
   "cell_type": "code",
   "execution_count": 105,
   "id": "c9b64a72",
   "metadata": {},
   "outputs": [],
   "source": [
    "#списки\n"
   ]
  },
  {
   "cell_type": "code",
   "execution_count": 107,
   "id": "46f58429",
   "metadata": {},
   "outputs": [
    {
     "name": "stdout",
     "output_type": "stream",
     "text": [
      "[8283, 3944, 3762]\n"
     ]
    }
   ],
   "source": [
    "group_name=[8283, 3944, 3762]\n",
    "print(group_name)"
   ]
  },
  {
   "cell_type": "code",
   "execution_count": 111,
   "id": "8d7efc78",
   "metadata": {},
   "outputs": [
    {
     "name": "stdout",
     "output_type": "stream",
     "text": [
      "[8938, 'экономика', 8918, 6028, 26.05]\n"
     ]
    }
   ],
   "source": [
    "group_name=[8938,'экономика', 8918, 6028, 26.05]\n",
    "print(group_name)"
   ]
  },
  {
   "cell_type": "code",
   "execution_count": 110,
   "id": "d3aea657",
   "metadata": {},
   "outputs": [
    {
     "name": "stdout",
     "output_type": "stream",
     "text": [
      "[]\n"
     ]
    }
   ],
   "source": [
    "group_name=[]\n",
    "print(group_name)"
   ]
  },
  {
   "cell_type": "code",
   "execution_count": 112,
   "id": "dd9696cb",
   "metadata": {},
   "outputs": [
    {
     "name": "stdout",
     "output_type": "stream",
     "text": [
      "8938 8918 26.05\n"
     ]
    }
   ],
   "source": [
    "group_name=[8938,'экономика', 8918, 6028, 26.05]\n",
    "print(group_name[0], group_name[2], group_name[-1])"
   ]
  },
  {
   "cell_type": "code",
   "execution_count": 113,
   "id": "eb535ab8",
   "metadata": {},
   "outputs": [
    {
     "name": "stdout",
     "output_type": "stream",
     "text": [
      "[8938, 'экономика'] [8938, 'экономика', 8918] [8938, 'экономика', 8918]\n"
     ]
    }
   ],
   "source": [
    "group_name=[8938,'экономика', 8918, 6028, 26.05]\n",
    "print(group_name[0:2], group_name[:3], group_name[:3])"
   ]
  },
  {
   "cell_type": "code",
   "execution_count": 114,
   "id": "70b063b8",
   "metadata": {},
   "outputs": [
    {
     "name": "stdout",
     "output_type": "stream",
     "text": [
      "5\n"
     ]
    }
   ],
   "source": [
    "group_name=[8938,'экономика', 8918, 6028, 26.05]\n",
    "print(len(group_name))"
   ]
  },
  {
   "cell_type": "code",
   "execution_count": 116,
   "id": "a6da0ebd",
   "metadata": {},
   "outputs": [
    {
     "name": "stdout",
     "output_type": "stream",
     "text": [
      "[8938, 'экономика', 8918, 6028, 26.05]\n",
      "[8938, 'экономика', 8918, 6028, 26.05, 'Международные отношения']\n"
     ]
    }
   ],
   "source": [
    "group_name=[8938,'экономика', 8918, 6028, 26.05]\n",
    "print(group_name)\n",
    "group_name.append('Международные отношения')\n",
    "print(group_name)"
   ]
  },
  {
   "cell_type": "code",
   "execution_count": 117,
   "id": "581af013",
   "metadata": {},
   "outputs": [
    {
     "name": "stdout",
     "output_type": "stream",
     "text": [
      "[8938, 'экономика', 8918, 6028, 26.05]\n",
      "[8938, 'экономика', 8918, 6028, 26.05, 'Цифровые кафедры', 'Финансы']\n"
     ]
    }
   ],
   "source": [
    "group_name=[8938,'экономика', 8918, 6028, 26.05]\n",
    "print(group_name)\n",
    "group_name.extend(['Цифровые кафедры', 'Финансы'])\n",
    "print(group_name)"
   ]
  },
  {
   "cell_type": "code",
   "execution_count": 119,
   "id": "ec1b7834",
   "metadata": {},
   "outputs": [
    {
     "name": "stdout",
     "output_type": "stream",
     "text": [
      "[8938, 'экономика', 8918, 6028, 26.05]\n",
      "[8938, 'экономика', 8011, 8918, 6028, 26.05]\n"
     ]
    }
   ],
   "source": [
    "group_name = [8938,'экономика', 8918, 6028, 26.05]\n",
    "print(group_name)\n",
    "group_name.insert(2, 8011)\n",
    "print(group_name)"
   ]
  },
  {
   "cell_type": "code",
   "execution_count": 120,
   "id": "c0277a4e",
   "metadata": {},
   "outputs": [
    {
     "name": "stdout",
     "output_type": "stream",
     "text": [
      "[8938, 'экономика', 8918, 6028, 26.05]\n",
      "[8938, 'экономика', 8918, 6028]\n"
     ]
    }
   ],
   "source": [
    "group_name = [8938,'экономика', 8918, 6028, 26.05]\n",
    "print(group_name)\n",
    "group_name.pop()\n",
    "print(group_name)"
   ]
  },
  {
   "cell_type": "code",
   "execution_count": 122,
   "id": "8306f711",
   "metadata": {},
   "outputs": [
    {
     "name": "stdout",
     "output_type": "stream",
     "text": [
      "[8839, 5473, 8882, 6472, 9103, 1283, 3735]\n",
      "[1283, 3735, 5473, 6472, 8839, 8882, 9103]\n",
      "[9103, 8882, 8839, 6472, 5473, 3735, 1283]\n"
     ]
    }
   ],
   "source": [
    "group_name = [8839, 5473, 8882, 6472, 9103, 1283, 3735]\n",
    "print(group_name)\n",
    "group_name.sort()\n",
    "print(group_name)\n",
    "group_name.sort(reverse=True)\n",
    "print(group_name)"
   ]
  },
  {
   "cell_type": "code",
   "execution_count": 123,
   "id": "14d1056f",
   "metadata": {},
   "outputs": [
    {
     "name": "stdout",
     "output_type": "stream",
     "text": [
      "[8839, 5473, 8882, 6472, 9103, 1283, 3735]\n",
      "[1283, 3735, 5473, 6472, 8839, 8882, 9103]\n"
     ]
    }
   ],
   "source": [
    "group_name = [8839, 5473, 8882, 6472, 9103, 1283, 3735]\n",
    "print(group_name)\n",
    "group_name_sorted = sorted(group_name)\n",
    "print(group_name_sorted)\n"
   ]
  },
  {
   "cell_type": "code",
   "execution_count": 124,
   "id": "60266988",
   "metadata": {},
   "outputs": [
    {
     "name": "stdout",
     "output_type": "stream",
     "text": [
      "[8839, 5473, 8882, 6472, 9103, 1283, 3735]\n",
      "3\n"
     ]
    }
   ],
   "source": [
    "group_name = [8839, 5473, 8882, 6472, 9103, 1283, 3735]\n",
    "print(group_name)\n",
    "index_6472 = group_name.index(6472)\n",
    "print(index_6472)"
   ]
  },
  {
   "cell_type": "code",
   "execution_count": 128,
   "id": "52ba6249",
   "metadata": {},
   "outputs": [
    {
     "name": "stdout",
     "output_type": "stream",
     "text": [
      "35\n",
      "5\n"
     ]
    }
   ],
   "source": [
    "name = 'Основы аналитики данных по отраслям' #исходная строка\n",
    "print(len(name)) #подсчет количества символов в исходной строке\n",
    "name_1 = name.split() #применяем метод split\n",
    "print(len(name_1)) #подсчет слов в исходной строке"
   ]
  },
  {
   "cell_type": "code",
   "execution_count": 130,
   "id": "669367db",
   "metadata": {},
   "outputs": [
    {
     "name": "stdout",
     "output_type": "stream",
     "text": [
      "35\n",
      "5\n"
     ]
    }
   ],
   "source": [
    "name = 'Основы,аналитики,данных,по,отраслям' #исходная строка\n",
    "print(len(name)) #подсчет количества символов в исходной строке\n",
    "name_1 = name.split(',') #применяем метод split\n",
    "print(len(name_1)) #подсчет слов в исходной строке"
   ]
  },
  {
   "cell_type": "code",
   "execution_count": 135,
   "id": "c012f532",
   "metadata": {},
   "outputs": [
    {
     "name": "stdout",
     "output_type": "stream",
     "text": [
      "['Основы', 'аналитики', 'данных', 'по', 'отраслям']\n",
      "Основы аналитики данных по отраслям\n"
     ]
    }
   ],
   "source": [
    "name = ['Основы', 'аналитики', 'данных' ,'по', 'отраслям']\n",
    "print(name)\n",
    "name_2 = ' '.join(name)\n",
    "print(name_2)"
   ]
  },
  {
   "cell_type": "code",
   "execution_count": null,
   "id": "92fe407f",
   "metadata": {},
   "outputs": [],
   "source": []
  }
 ],
 "metadata": {
  "kernelspec": {
   "display_name": "Python 3 (ipykernel)",
   "language": "python",
   "name": "python3"
  },
  "language_info": {
   "codemirror_mode": {
    "name": "ipython",
    "version": 3
   },
   "file_extension": ".py",
   "mimetype": "text/x-python",
   "name": "python",
   "nbconvert_exporter": "python",
   "pygments_lexer": "ipython3",
   "version": "3.11.4"
  }
 },
 "nbformat": 4,
 "nbformat_minor": 5
}
