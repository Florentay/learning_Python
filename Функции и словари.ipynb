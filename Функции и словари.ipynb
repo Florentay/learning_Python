{
 "cells": [
  {
   "cell_type": "code",
   "execution_count": 1,
   "id": "3e2a6599",
   "metadata": {},
   "outputs": [
    {
     "name": "stdout",
     "output_type": "stream",
     "text": [
      "На цифровых кафедрах обучается группа: 7353\n",
      "На цифровых кафедрах обучается группа: 7834\n",
      "На цифровых кафедрах обучается группа: 8344\n"
     ]
    }
   ],
   "source": [
    "def digital(group_number):\n",
    "    result = 'На цифровых кафедрах обучается группа: ' + str(group_number)\n",
    "    return result\n",
    "\n",
    "print(digital(7353))\n",
    "print(digital(7834))\n",
    "print(digital(8344))"
   ]
  },
  {
   "cell_type": "code",
   "execution_count": 4,
   "id": "46fd76ab",
   "metadata": {},
   "outputs": [
    {
     "name": "stdout",
     "output_type": "stream",
     "text": [
      "На цифровых кафедрах обучается группа: 1\n",
      "На цифровых кафедрах обучается группа: 2\n",
      "На цифровых кафедрах обучается группа: 3\n",
      "На цифровых кафедрах обучается группа: 4\n",
      "На цифровых кафедрах обучается группа: 5\n",
      "На цифровых кафедрах обучается группа: 6\n",
      "На цифровых кафедрах обучается группа: 7\n",
      "На цифровых кафедрах обучается группа: 8\n",
      "На цифровых кафедрах обучается группа: 9\n"
     ]
    }
   ],
   "source": [
    "def digital(group_number):\n",
    "    result = 'На цифровых кафедрах обучается группа: ' + str(group_number)\n",
    "    return result\n",
    "\n",
    "for i in range(1,10):\n",
    "    print(digital(i))"
   ]
  },
  {
   "cell_type": "code",
   "execution_count": 8,
   "id": "20f53900",
   "metadata": {},
   "outputs": [
    {
     "name": "stdout",
     "output_type": "stream",
     "text": [
      "На цифровых кафедрах обучается группа: 7834\n",
      "На цифровых кафедрах обучается группа: 8344\n",
      "На цифровых кафедрах обучается группа: 9\n"
     ]
    }
   ],
   "source": [
    "def digital(group_number=9):\n",
    "    result = 'На цифровых кафедрах обучается группа: ' + str(group_number)\n",
    "    return result\n",
    "\n",
    "\n",
    "print(digital(7834))\n",
    "print(digital(8344))\n",
    "print(digital())"
   ]
  },
  {
   "cell_type": "code",
   "execution_count": 9,
   "id": "49efa859",
   "metadata": {},
   "outputs": [
    {
     "name": "stdout",
     "output_type": "stream",
     "text": [
      "{'SU283': '12.06.2020 12:00', 'SU256': '13.08.2020 15:30', 'SU274': '15.09.2020 17:15', 'SU205': '17.10.2020 21:05'}\n"
     ]
    }
   ],
   "source": [
    "schedule = {                      #элементы словаря заключают в фигурные скобки\n",
    "    'SU283': '12.06.2020 12:00',  #слева от двоеточия - ключ, справа - значение \n",
    "    'SU256': '13.08.2020 15:30',  #каждый элемент отделяется запятой\n",
    "    'SU274': '15.09.2020 17:15',\n",
    "    'SU205': '17.10.2020 21:05',\n",
    "}\n",
    "print(schedule)"
   ]
  },
  {
   "cell_type": "code",
   "execution_count": 10,
   "id": "6e524aa9",
   "metadata": {},
   "outputs": [
    {
     "name": "stdout",
     "output_type": "stream",
     "text": [
      "{'American Expess': 93.56, 'Boeing': 234.55, 'Coca-Cola': 56.32, 'Nike': 96.99, 'Microsoft': 345.33}\n"
     ]
    }
   ],
   "source": [
    "financial_info = {\n",
    "    'American Expess': 93.56,\n",
    "    'Boeing': 234.55,\n",
    "    'Coca-Cola': 56.32,\n",
    "    'Nike': 96.99,\n",
    "    'Microsoft': 345.33\n",
    "}\n",
    "print(financial_info)"
   ]
  },
  {
   "cell_type": "code",
   "execution_count": 12,
   "id": "d5820c1c",
   "metadata": {},
   "outputs": [
    {
     "name": "stdout",
     "output_type": "stream",
     "text": [
      "56.32\n"
     ]
    }
   ],
   "source": [
    "financial_info = {\n",
    "    'American Expess': 93.56,\n",
    "    'Boeing': 234.55,\n",
    "    'Coca-Cola': 56.32,\n",
    "    'Nike': 96.99,\n",
    "    'Microsoft': 345.33\n",
    "}\n",
    "\n",
    "coca_cola_price = financial_info['Coca-Cola'] #достаем из словаря значения для ключа 'Coca-Cola' (небезопасный способ получения значения)\n",
    "print(coca_cola_price)"
   ]
  },
  {
   "cell_type": "code",
   "execution_count": 13,
   "id": "735439e8",
   "metadata": {},
   "outputs": [
    {
     "name": "stdout",
     "output_type": "stream",
     "text": [
      "None\n",
      "96.99\n"
     ]
    }
   ],
   "source": [
    "financial_info = {\n",
    "    'American Expess': 93.56,\n",
    "    'Boeing': 234.55,\n",
    "    'Coca-Cola': 56.32,\n",
    "    'Nike': 96.99,\n",
    "    'Microsoft': 345.33\n",
    "}\n",
    "\n",
    "pepsi_price = financial_info.get('Pepsi')\n",
    "nike_price = financial_info.get('Nike')\n",
    "\n",
    "print(pepsi_price)\n",
    "print(nike_price)"
   ]
  },
  {
   "cell_type": "code",
   "execution_count": 14,
   "id": "0ce702e6",
   "metadata": {},
   "outputs": [
    {
     "name": "stdout",
     "output_type": "stream",
     "text": [
      "{'American Expess': 93.56, 'Boeing': 234.55, 'Coca-Cola': 56.32, 'Nike': 96.99, 'Microsoft': 345.33, 'Walt Disney': 123.23}\n"
     ]
    }
   ],
   "source": [
    "financial_info = {\n",
    "    'American Expess': 93.56,\n",
    "    'Boeing': 234.55,\n",
    "    'Coca-Cola': 56.32,\n",
    "    'Nike': 96.99,\n",
    "    'Microsoft': 345.33\n",
    "}\n",
    "\n",
    "financial_info['Walt Disney'] = 123.23\n",
    "print(financial_info)\n"
   ]
  },
  {
   "cell_type": "code",
   "execution_count": 15,
   "id": "2480016e",
   "metadata": {},
   "outputs": [
    {
     "name": "stdout",
     "output_type": "stream",
     "text": [
      "{'name': {'first_name': 'Петр', 'last_name': 'Петров'}, 'adress': {'country': 'Россия', 'city': 'Москва', 'street': 'Кузнецкий мост 10', 'index': '27331'}}\n"
     ]
    }
   ],
   "source": [
    "#словари словарей\n",
    "\n",
    "customer_info = {\n",
    "    'name': {\n",
    "        'first_name': 'Петр',\n",
    "        'last_name': 'Петров'\n",
    "    },\n",
    "    'adress': {\n",
    "        'country': 'Россия',\n",
    "        'city': 'Москва',\n",
    "        'street': 'Кузнецкий мост 10',\n",
    "        'index': '27331'\n",
    "    }\n",
    "}\n",
    "\n",
    "print(customer_info)"
   ]
  },
  {
   "cell_type": "code",
   "execution_count": 17,
   "id": "23e9eda5",
   "metadata": {},
   "outputs": [
    {
     "name": "stdout",
     "output_type": "stream",
     "text": [
      "{74: ['8:00', '12:00', '13:30'], 25: ['9:30', '15:00'], 23: ['18:30', '13:30']}\n"
     ]
    }
   ],
   "source": [
    "#словари списков\n",
    "\n",
    "bus_schedule = {\n",
    "    74: ['8:00', '12:00', '13:30'],\n",
    "    25: ['9:30', '15:00'],\n",
    "    23: ['18:30', '13:30']\n",
    "}\n",
    "\n",
    "print(bus_schedule)"
   ]
  },
  {
   "cell_type": "code",
   "execution_count": 18,
   "id": "8241bf9b",
   "metadata": {},
   "outputs": [
    {
     "name": "stdout",
     "output_type": "stream",
     "text": [
      "Иванов\n",
      "Петров\n",
      "Сидоров\n",
      "Антонов\n"
     ]
    }
   ],
   "source": [
    "game_scores = {\n",
    "    'Иванов': [23, 43, 24, 65],\n",
    "    'Петров': [12, 64, 23, 17], \n",
    "    'Сидоров': [12, 34, 85, 34],\n",
    "    'Антонов': [22, 45, 66, 75]\n",
    "}\n",
    "\n",
    "for person in game_scores: #перебор каждого ключа в словаре\n",
    "    print(person)"
   ]
  },
  {
   "cell_type": "code",
   "execution_count": 19,
   "id": "4ed3c32c",
   "metadata": {},
   "outputs": [
    {
     "name": "stdout",
     "output_type": "stream",
     "text": [
      "Иванов - 155\n",
      "Петров - 116\n",
      "Сидоров - 165\n",
      "Антонов - 208\n"
     ]
    }
   ],
   "source": [
    "game_scores = {\n",
    "    'Иванов': [23, 43, 24, 65],\n",
    "    'Петров': [12, 64, 23, 17], \n",
    "    'Сидоров': [12, 34, 85, 34],\n",
    "    'Антонов': [22, 45, 66, 75]\n",
    "}\n",
    "\n",
    "#цикл переберет пары в словаре - \n",
    "#в person попадает ключ (строка с фамилией игрока),\n",
    "#в points - значение (список с набранными очками):\n",
    "\n",
    "for person, points in game_scores.items():\n",
    "    total_points = sum(points)  #функция sum() вернет сумму элементов списка points\n",
    "    print(f'{person} - {total_points}')  #выводим сумму игрока person"
   ]
  },
  {
   "cell_type": "code",
   "execution_count": 20,
   "id": "7cffa39a",
   "metadata": {
    "scrolled": true
   },
   "outputs": [
    {
     "name": "stdout",
     "output_type": "stream",
     "text": [
      "Опеннгеймер\n"
     ]
    }
   ],
   "source": [
    "#список словарей\n",
    "\n",
    "movies_table = [\n",
    "    {'movie_name': 'Побег из Шоушенка', 'country': 'США', 'genre': 'драма', 'year':1994, 'rating':9.111 },\n",
    "    {'movie_name': 'Опеннгеймер', 'country': 'США', 'genre': 'биография, исторический, драма', 'year':2023, 'rating':10 },\n",
    "    {'movie_name': 'Бэтмен', 'country': 'США', 'genre': 'фантастика, боевик', 'year':2021, 'rating':9.24 }\n",
    "]\n",
    "\n",
    "#теперь мы обращаемся к колонке по имени:\n",
    "print(movies_table[1]['movie_name'])"
   ]
  },
  {
   "cell_type": "code",
   "execution_count": 21,
   "id": "4ae1620f",
   "metadata": {},
   "outputs": [
    {
     "name": "stdout",
     "output_type": "stream",
     "text": [
      "1265\n"
     ]
    }
   ],
   "source": [
    "order = [\n",
    "    {\n",
    "        'item': 'Пицца Маргарита', #название товара\n",
    "        'category': 'пицца', #категория товара\n",
    "        'quantity': 2,  #количество в заказе\n",
    "        'price': 320 #стоимость\n",
    "        \n",
    "    },\n",
    "    {\n",
    "        'item': 'Пицца с ветчиной',\n",
    "        'category': 'пицца',\n",
    "        'quantity': 1,\n",
    "        'price': 400\n",
    "    },\n",
    "    {\n",
    "        'item': 'Pepsi 1 л',\n",
    "        'category': 'напитки',\n",
    "        'quantity': 3, \n",
    "        'price': 75\n",
    "    }\n",
    "]\n",
    "\n",
    "total_price = 0 #переменная для общей суммы заказа\n",
    "\n",
    "for item in order: #перебираем каждый словарь в списке\n",
    "    total_price += item['price'] * item['quantity'] #добавляем к переменной стоимость товара, умноженную на количество\n",
    "\n",
    "print(total_price)"
   ]
  },
  {
   "cell_type": "code",
   "execution_count": 22,
   "id": "0296c0c3",
   "metadata": {},
   "outputs": [
    {
     "name": "stdout",
     "output_type": "stream",
     "text": [
      "[{'item': 'Пицца Маргарита', 'category': 'пицца', 'quantity': 2, 'price': 320}, {'item': 'Пицца с ветчиной', 'category': 'пицца', 'quantity': 1, 'price': 400}]\n"
     ]
    }
   ],
   "source": [
    "order = [\n",
    "    {\n",
    "        'item': 'Пицца Маргарита', #название товара\n",
    "        'category': 'пицца', #категория товара\n",
    "        'quantity': 2,  #количество в заказе\n",
    "        'price': 320 #стоимость\n",
    "        \n",
    "    },\n",
    "    {\n",
    "        'item': 'Пицца с ветчиной',\n",
    "        'category': 'пицца',\n",
    "        'quantity': 1,\n",
    "        'price': 400\n",
    "    },\n",
    "    {\n",
    "        'item': 'Pepsi 1 л',\n",
    "        'category': 'напитки',\n",
    "        'quantity': 3, \n",
    "        'price': 75\n",
    "    }\n",
    "]\n",
    "\n",
    "filter_order = [] #переменная для хранения результата\n",
    "\n",
    "for item in order: #перебираем каждый словарь в списке\n",
    "    if item['category'] == 'пицца': #если категория - пицца...\n",
    "        filter_order.append(item) #... то добавим словарь в список filter_order\n",
    "        \n",
    "print(filter_order) #печатаем отфильтрованный список словарей"
   ]
  },
  {
   "cell_type": "code",
   "execution_count": 25,
   "id": "2a870135",
   "metadata": {},
   "outputs": [
    {
     "name": "stdout",
     "output_type": "stream",
     "text": [
      "Результат\n",
      "[\n",
      "    {\n",
      "        \"item\": \"Пицца Маргарита\",\n",
      "        \"category\": \"пицца\",\n",
      "        \"quantity\": 2,\n",
      "        \"price\": 320\n",
      "    },\n",
      "    {\n",
      "        \"item\": \"Пицца с ветчиной\",\n",
      "        \"category\": \"пицца\",\n",
      "        \"quantity\": 1,\n",
      "        \"price\": 400\n",
      "    }\n",
      "]\n"
     ]
    }
   ],
   "source": [
    "from json import dumps  #подключение dumps для красивого вывода списка словарей\n",
    "order = [\n",
    "    {\n",
    "        'item': 'Пицца Маргарита', #название товара\n",
    "        'category': 'пицца', #категория товара\n",
    "        'quantity': 2,  #количество в заказе\n",
    "        'price': 320 #стоимость\n",
    "        \n",
    "    },\n",
    "    {\n",
    "        'item': 'Пицца с ветчиной',\n",
    "        'category': 'пицца',\n",
    "        'quantity': 1,\n",
    "        'price': 400\n",
    "    },\n",
    "    {\n",
    "        'item': 'Pepsi 1 л',\n",
    "        'category': 'напитки',\n",
    "        'quantity': 3, \n",
    "        'price': 75\n",
    "    }\n",
    "]\n",
    "\n",
    "filter_order = [] #переменная для хранения результата\n",
    "\n",
    "for item in order: #перебираем каждый словарь в списке\n",
    "    if item['category'] == 'пицца': #если категория - пицца...\n",
    "        filter_order.append(item) #... то добавим словарь в список filter_order\n",
    "        \n",
    "print('Результат') \n",
    "print(dumps(filter_order, indent=4, ensure_ascii=False))  #печатаем список с помощью dumps"
   ]
  },
  {
   "cell_type": "code",
   "execution_count": null,
   "id": "218ac3c4",
   "metadata": {},
   "outputs": [],
   "source": []
  }
 ],
 "metadata": {
  "kernelspec": {
   "display_name": "Python 3 (ipykernel)",
   "language": "python",
   "name": "python3"
  },
  "language_info": {
   "codemirror_mode": {
    "name": "ipython",
    "version": 3
   },
   "file_extension": ".py",
   "mimetype": "text/x-python",
   "name": "python",
   "nbconvert_exporter": "python",
   "pygments_lexer": "ipython3",
   "version": "3.11.4"
  }
 },
 "nbformat": 4,
 "nbformat_minor": 5
}
